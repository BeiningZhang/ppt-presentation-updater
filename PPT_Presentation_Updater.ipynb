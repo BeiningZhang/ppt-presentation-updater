{
 "cells": [
  {
   "cell_type": "markdown",
   "id": "b5c57427-fd02-4c1c-80ab-5424665112fc",
   "metadata": {},
   "source": [
    "# Prerequisite\n",
    "\n",
    "- Presentation in PPT format.\n",
    "- Placeholders in the presentation in order to be replaced with new value e.g. #\n",
    "- New data in dictionary form."
   ]
  },
  {
   "cell_type": "markdown",
   "id": "065cbcba-abd5-45d1-8870-d4e7a1e87542",
   "metadata": {},
   "source": [
    "# Load the presentation"
   ]
  },
  {
   "cell_type": "code",
   "execution_count": 17,
   "id": "b96b0315-19bd-49f0-8a42-d1d2dbda6d7d",
   "metadata": {},
   "outputs": [],
   "source": [
    "# pip install python-pptx\n",
    "from pptx import Presentation\n",
    "\n",
    "# Load PowerPoint presentation\n",
    "ppt = Presentation('Presentation.pptx')\n",
    "\n",
    "# Access slides\n",
    "slides = ppt.slides"
   ]
  },
  {
   "cell_type": "markdown",
   "id": "3dc0c0ca-6654-4c3d-930c-db32aee5dc9b",
   "metadata": {
    "tags": []
   },
   "source": [
    "# View slides"
   ]
  },
  {
   "cell_type": "code",
   "execution_count": 2,
   "id": "0a05c60e-ab11-4e9c-a120-331b7560b1e3",
   "metadata": {},
   "outputs": [],
   "source": [
    "# Iterate through slides\n",
    "for slide in slides:\n",
    "    try:\n",
    "        print(\"Slide Number:\", ppt.slides.index(slide) + 1)  # Slide index starts from 0\n",
    "        print(\"Slide Title:\", slide.shapes.title.text)  # Print slide title if available\n",
    "\n",
    "        # Iterate through shapes in the slide\n",
    "        for shape in slide.shapes:\n",
    "            if shape.has_text_frame:\n",
    "                text = shape.text.strip()  # Get the text content of the shape\n",
    "                if text:\n",
    "                    print(\"Shape Text:\", text)\n",
    "    except:\n",
    "        continue\n",
    "\n",
    "    print()  # Add an empty line between slides"
   ]
  },
  {
   "cell_type": "markdown",
   "id": "53c09e7f-2c51-44bd-bb43-4e459cdc3fc6",
   "metadata": {
    "tags": []
   },
   "source": [
    "# Update slides using new data"
   ]
  },
  {
   "cell_type": "code",
   "execution_count": 3,
   "id": "f672d811-3efa-43c9-bb9d-e832c4e611d5",
   "metadata": {},
   "outputs": [],
   "source": [
    "def update_specific_slide_values(slide, new_data):\n",
    "    \"\"\"\n",
    "    Update specific values within a slide based on new data.\n",
    "    \"\"\"\n",
    "    for shape in slide.shapes:\n",
    "        if shape.has_text_frame:\n",
    "            for key, value in new_data.items():\n",
    "                text = shape.text.strip()\n",
    "                if key in text:\n",
    "                    shape.text = text.replace(key, str(value))\n",
    "\n",
    "\n",
    "# New data to update specific slides\n",
    "specific_slide_data = {\n",
    "    4: {'Number of duplicated songs: #': 'Number of duplicated songs: 0',\n",
    "       'Total number of songs removed: #' : 'Total number of songs removed: 0'},\n",
    "    10: {'Number of topics: #': 'Number of topics: 0'},\n",
    "}\n",
    "\n",
    "# Iterate through slides\n",
    "for slide_number, data in specific_slide_data.items():\n",
    "    slide = slides[slide_number - 1]  # Slide index starts from 0\n",
    "    update_specific_slide_values(slide, data)\n",
    "\n",
    "# Save the updated presentation\n",
    "ppt.save('updated_presentation.pptx')"
   ]
  },
  {
   "cell_type": "markdown",
   "id": "c8f297d4-8492-4ee5-a1af-40ed4970bcb3",
   "metadata": {
    "tags": []
   },
   "source": [
    "# Keep the formating - slide specific data"
   ]
  },
  {
   "cell_type": "code",
   "execution_count": 8,
   "id": "b5e2a33b-c01f-49ad-9ea6-7b70356f7be1",
   "metadata": {},
   "outputs": [],
   "source": [
    "from pptx.enum.text import PP_ALIGN\n",
    "\n",
    "def update_specific_slide_values(slide, new_data):\n",
    "    \"\"\"\n",
    "    Update specific values within a slide based on new data.\n",
    "    Preserve original formatting.\n",
    "    \"\"\"\n",
    "    for shape in slide.shapes:\n",
    "        if shape.has_text_frame:\n",
    "            for paragraph in shape.text_frame.paragraphs:\n",
    "                for run in paragraph.runs:\n",
    "                    text = run.text.strip()\n",
    "                    for key, value in new_data.items():\n",
    "                        if key in text:\n",
    "                            run.text = text.replace(key, str(value))\n",
    "\n",
    "# New data to update specific slides\n",
    "new_data_slide_specific = {\n",
    "    4: {\n",
    "        'Number of duplicated songs: #': 'Number of duplicated songs: 0',\n",
    "        'Total number of songs removed: #' : 'Total number of songs removed: 0'\n",
    "    },\n",
    "    10: {\n",
    "        'Number of topics: #': 'Number of topics: 0'\n",
    "    },\n",
    "}\n",
    "\n",
    "# Iterate through slides\n",
    "for slide_number, data in new_data_slide_specific.items():\n",
    "    slide = ppt.slides[slide_number - 1]  # Slide index starts from 0\n",
    "    update_specific_slide_values(slide, data)\n",
    "\n",
    "# Save the updated presentation\n",
    "ppt.save('Updated Presentation.pptx')"
   ]
  },
  {
   "cell_type": "markdown",
   "id": "0c3d98c6-4f90-4548-a506-dceed0faba93",
   "metadata": {},
   "source": [
    "# Keep the formating"
   ]
  },
  {
   "cell_type": "code",
   "execution_count": 18,
   "id": "d77acda9-ae2b-4930-97ae-d9cfabc663dd",
   "metadata": {},
   "outputs": [],
   "source": [
    "from pptx.enum.text import PP_ALIGN\n",
    "\n",
    "def update_specific_slide_values(slide, new_data):\n",
    "    \"\"\"\n",
    "    Update specific values within a slide based on new data.\n",
    "    Preserve original formatting.\n",
    "    \"\"\"\n",
    "    for shape in slide.shapes:\n",
    "        if shape.has_text_frame:\n",
    "            for paragraph in shape.text_frame.paragraphs:\n",
    "                for run in paragraph.runs:\n",
    "                    text = run.text.strip()\n",
    "                    for key, value in new_data.items():\n",
    "                        if key in text:\n",
    "                            run.text = text.replace(key, str(value))\n",
    "\n",
    "# New data to update specific slides\n",
    "new_data = {\n",
    "    'Number of duplicated songs: #': 'Number of duplicated songs: 0',\n",
    "    'Total number of songs removed: #' : 'Total number of songs removed: 0',\n",
    "    'Number of topics: #': 'Number of topics: 0'\n",
    "}\n",
    "\n",
    "# Iterate through slides\n",
    "for slide in slides:\n",
    "    update_specific_slide_values(slide, new_data)\n",
    "\n",
    "# Save the updated presentation\n",
    "ppt.save('Updated Presentation.pptx')"
   ]
  },
  {
   "cell_type": "markdown",
   "id": "576def77-0554-4f23-ad5c-578f9577074f",
   "metadata": {},
   "source": [
    "Reference:\n",
    "https://www.quora.com/How-do-I-find-and-replace-text-in-PowerPoint-slides-without-changing-text-formatting-in-Python"
   ]
  }
 ],
 "metadata": {
  "kernelspec": {
   "display_name": "Python 3 (ipykernel)",
   "language": "python",
   "name": "python3"
  },
  "language_info": {
   "codemirror_mode": {
    "name": "ipython",
    "version": 3
   },
   "file_extension": ".py",
   "mimetype": "text/x-python",
   "name": "python",
   "nbconvert_exporter": "python",
   "pygments_lexer": "ipython3",
   "version": "3.8.12"
  }
 },
 "nbformat": 4,
 "nbformat_minor": 5
}
